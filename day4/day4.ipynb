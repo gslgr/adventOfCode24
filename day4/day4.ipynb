{
 "cells": [
  {
   "cell_type": "code",
   "execution_count": 52,
   "metadata": {},
   "outputs": [],
   "source": [
    "import re\n",
    "\n",
    "def getColumns(lines):\n",
    "    columns = []\n",
    "    for i in range(len(lines[0])):\n",
    "        col = \"\".join([line[i] for line in lines])\n",
    "        revCol = col[::-1]\n",
    "        columns.append(col)\n",
    "        columns.append(revCol)\n",
    "    return columns\n",
    "\n",
    "def getRows(lines):\n",
    "    rows = []\n",
    "    for line in lines:\n",
    "        rows.append(line)\n",
    "        rows.append(line[::-1])\n",
    "    return rows\n",
    "\n",
    "def getDiagnols(lines):\n",
    "    row_length = len(lines[0])\n",
    "    diagnols = []\n",
    "    # first half\n",
    "    for first_line_pos in range(row_length-1,-1,-1):\n",
    "        diagnol = ''\n",
    "        for i, current_line_pos in enumerate(range(first_line_pos, row_length)):\n",
    "            if i<len(lines):\n",
    "                diagnol += lines[i][current_line_pos]\n",
    "        diagnols.append(diagnol)\n",
    "        diagnols.append(diagnol[::-1])\n",
    "        \n",
    "    # second half from second line, always first charactr\n",
    "    for line_index in range(1,len(lines)):\n",
    "        diagnol = ''\n",
    "        for i in range(0, row_length):\n",
    "            if i<(len(lines)-line_index):\n",
    "                diagnol += lines[line_index + i][i]\n",
    "        diagnols.append(diagnol)\n",
    "        diagnols.append(diagnol[::-1])\n",
    "    return diagnols\n",
    "\n",
    "def getReverseDiagnols(lines):\n",
    "    rev_lines = [line[::-1] for line in lines]\n",
    "    return getDiagnols(rev_lines)\n",
    "\n",
    "def getAllPossibleStrings(lines):\n",
    "    return getColumns(lines) + getRows(lines) + getDiagnols(lines) + getReverseDiagnols(lines)\n",
    "\n",
    "def countPattern(strings, pattern=r'XMAS'):\n",
    "    instances = 0\n",
    "    for string in strings: \n",
    "        instances += len(re.findall(pattern, string))\n",
    "    return instances\n",
    "    \n",
    "    "
   ]
  },
  {
   "cell_type": "code",
   "execution_count": 59,
   "metadata": {},
   "outputs": [
    {
     "data": {
      "text/plain": [
       "18"
      ]
     },
     "execution_count": 59,
     "metadata": {},
     "output_type": "execute_result"
    }
   ],
   "source": [
    "example = [\n",
    "'MMMSXXMASM',\n",
    "'MSAMXMSMSA',\n",
    "'AMXSXMAAMM',\n",
    "'MSAMASMSMX',\n",
    "'XMASAMXAMM',\n",
    "'XXAMMXXAMA',\n",
    "'SMSMSASXSS',\n",
    "'SAXAMASAAA',\n",
    "'MAMMMXMMMM',\n",
    "'MXMXAXMASX',]\n",
    "\n",
    "countPattern(getAllPossibleStrings(example))"
   ]
  },
  {
   "cell_type": "code",
   "execution_count": 54,
   "metadata": {},
   "outputs": [
    {
     "name": "stdout",
     "output_type": "stream",
     "text": [
      "The input has 2633 instances of XMAS\n"
     ]
    }
   ],
   "source": [
    "\n",
    "with open('day4_input.txt') as file:\n",
    "    lines = [line.strip() for line in file.readlines()]\n",
    "    \n",
    "counts = countPattern(getAllPossibleStrings(lines))\n",
    "\n",
    "print(f'The input has {counts} instances of XMAS')"
   ]
  },
  {
   "cell_type": "code",
   "execution_count": 64,
   "metadata": {},
   "outputs": [],
   "source": [
    "def findMASinX(lines):\n",
    "    countCases = 0\n",
    "    lineLength = len(lines[0])\n",
    "    for currentLineIndex in range (1,len(lines)-1):\n",
    "        for pos in range(1, lineLength-1):\n",
    "            if lines[currentLineIndex][pos] == 'A':\n",
    "                firstDiagnolQ = (\n",
    "                    (lines[currentLineIndex-1][pos-1] == 'S') and (lines[currentLineIndex+1][pos+1] == 'M')\n",
    "                    ) or (\n",
    "                    (lines[currentLineIndex-1][pos-1] == 'M') and (lines[currentLineIndex+1][pos+1] == 'S')\n",
    "                    )\n",
    "                secondDiagnolQ = (\n",
    "                    (lines[currentLineIndex-1][pos+1] == 'S') and (lines[currentLineIndex+1][pos-1] == 'M')\n",
    "                    ) or (\n",
    "                    (lines[currentLineIndex-1][pos+1] == 'M') and (lines[currentLineIndex+1][pos-1] == 'S')\n",
    "                    )\n",
    "                if firstDiagnolQ and secondDiagnolQ:\n",
    "                    countCases += 1\n",
    "    return countCases\n"
   ]
  },
  {
   "cell_type": "code",
   "execution_count": 65,
   "metadata": {},
   "outputs": [
    {
     "data": {
      "text/plain": [
       "10"
      ]
     },
     "execution_count": 65,
     "metadata": {},
     "output_type": "execute_result"
    }
   ],
   "source": [
    "example = [\n",
    "'MMMSXXMASM',\n",
    "'MSAMXMSMSA',\n",
    "'AMXSXMAAMM',\n",
    "'MSAMASMSMX',\n",
    "'XMASAMXAMM',\n",
    "'XXAMMXXAMA',\n",
    "'SMSMSASXSS',\n",
    "'SAXAMASAAA',\n",
    "'MAMMMAMMMM',\n",
    "'MXMXMXSASX',]\n",
    "findMASinX(example)"
   ]
  },
  {
   "cell_type": "code",
   "execution_count": 66,
   "metadata": {},
   "outputs": [
    {
     "name": "stdout",
     "output_type": "stream",
     "text": [
      "The input has 1936 instances of X-MAS\n"
     ]
    }
   ],
   "source": [
    "\n",
    "with open('day4_input.txt') as file:\n",
    "    lines = [line.strip() for line in file.readlines()]\n",
    "    \n",
    "counts = findMASinX(lines)\n",
    "\n",
    "print(f'The input has {counts} instances of X-MAS')"
   ]
  },
  {
   "cell_type": "code",
   "execution_count": null,
   "metadata": {},
   "outputs": [],
   "source": []
  }
 ],
 "metadata": {
  "kernelspec": {
   "display_name": "aoc24",
   "language": "python",
   "name": "python3"
  },
  "language_info": {
   "codemirror_mode": {
    "name": "ipython",
    "version": 3
   },
   "file_extension": ".py",
   "mimetype": "text/x-python",
   "name": "python",
   "nbconvert_exporter": "python",
   "pygments_lexer": "ipython3",
   "version": "3.12.3"
  }
 },
 "nbformat": 4,
 "nbformat_minor": 2
}

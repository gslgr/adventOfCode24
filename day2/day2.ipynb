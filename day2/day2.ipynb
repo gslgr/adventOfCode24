{
 "cells": [
  {
   "cell_type": "code",
   "execution_count": 48,
   "metadata": {},
   "outputs": [],
   "source": [
    "def getDiffsInList(list):\n",
    "    diffs = []\n",
    "    for i in range(len(list)-1):\n",
    "        diffs.append(list[i+1]-list[i])\n",
    "    return diffs\n",
    "\n",
    "def allSameDirectionQ(diffs):\n",
    "    return all(diff>0 for diff in diffs) or (all(diff<0 for diff in diffs))\n",
    "\n",
    "def oneToThreeLevelsQ(diffs):\n",
    "    return 4 > max([abs(dif) for dif in diffs]) > 0\n",
    "\n",
    "def safeQ(diff):\n",
    "    return allSameDirectionQ(diff) and oneToThreeLevelsQ(diff)\n",
    "\n",
    "def safeWithDampenerQ(list):\n",
    "    safety = []\n",
    "    # check original and when dropping one level at a time\n",
    "    for i in range(len(list)+1):\n",
    "        dampened_list = list.copy()\n",
    "        if i<len(list):\n",
    "            del dampened_list[i]        \n",
    "        diff = getDiffsInList(dampened_list)\n",
    "        safety.append(safeQ(diff))\n",
    "    return any(safety)\n",
    "        \n",
    "with open('day2_input.txt') as file:\n",
    "    lines = file.readlines()\n",
    "\n",
    "split_lines = []\n",
    "safe_lines = []\n",
    "safe_with_dampener_lines = []\n",
    "for line in lines: \n",
    "    split_line = line.strip().split(' ')\n",
    "    int_split_line = [int(obj) for obj in split_line]\n",
    "    split_lines.append(int_split_line)\n",
    "    diff = getDiffsInList(int_split_line)\n",
    "    safe_lines.append(\n",
    "        safeQ(diff)\n",
    "    )\n",
    "    safe_with_dampener_lines.append(\n",
    "        safeWithDampenerQ(int_split_line)\n",
    "    )\n",
    "    "
   ]
  },
  {
   "cell_type": "code",
   "execution_count": 49,
   "metadata": {},
   "outputs": [
    {
     "name": "stdout",
     "output_type": "stream",
     "text": [
      "Total safe, strict: 369\n",
      "Total safe, dampener: 428\n"
     ]
    }
   ],
   "source": [
    "print(f'Total safe, strict: {sum(safe_lines)}')\n",
    "print(f'Total safe, dampener: {sum(safe_with_dampener_lines)}')"
   ]
  }
 ],
 "metadata": {
  "kernelspec": {
   "display_name": "aoc24",
   "language": "python",
   "name": "python3"
  },
  "language_info": {
   "codemirror_mode": {
    "name": "ipython",
    "version": 3
   },
   "file_extension": ".py",
   "mimetype": "text/x-python",
   "name": "python",
   "nbconvert_exporter": "python",
   "pygments_lexer": "ipython3",
   "version": "3.12.3"
  }
 },
 "nbformat": 4,
 "nbformat_minor": 2
}

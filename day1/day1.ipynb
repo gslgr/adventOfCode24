{
 "cells": [
  {
   "cell_type": "markdown",
   "metadata": {},
   "source": [
    "Throughout the Chief's office, the historically significant locations are listed not by name but by a unique number called the location ID. To make sure they don't miss anything, The Historians split into two groups, each searching the office and trying to create their own complete list of location IDs.\n",
    "\n",
    "There's just one problem: by holding the two lists up side by side (your puzzle input), it quickly becomes clear that the lists aren't very similar. Maybe you can help The Historians reconcile their lists?\n",
    "\n",
    "For example:\n",
    "\n",
    "3   4\n",
    "4   3\n",
    "2   5\n",
    "1   3\n",
    "3   9\n",
    "3   3\n",
    "Maybe the lists are only off by a small amount! To find out, pair up the numbers and measure how far apart they are. Pair up the smallest number in the left list with the smallest number in the right list, then the second-smallest left number with the second-smallest right number, and so on.\n",
    "\n",
    "Within each pair, figure out how far apart the two numbers are; you'll need to add up all of those distances. For example, if you pair up a 3 from the left list with a 7 from the right list, the distance apart is 4; if you pair up a 9 with a 3, the distance apart is 6.\n",
    "\n",
    "In the example list above, the pairs and distances would be as follows:\n",
    "\n",
    "The smallest number in the left list is 1, and the smallest number in the right list is 3. The distance between them is 2.\n",
    "The second-smallest number in the left list is 2, and the second-smallest number in the right list is another 3. The distance between them is 1.\n",
    "The third-smallest number in both lists is 3, so the distance between them is 0.\n",
    "The next numbers to pair up are 3 and 4, a distance of 1.\n",
    "The fifth-smallest numbers in each list are 3 and 5, a distance of 2.\n",
    "Finally, the largest number in the left list is 4, while the largest number in the right list is 9; these are a distance 5 apart.\n",
    "To find the total distance between the left list and the right list, add up the distances between all of the pairs you found. In the example above, this is 2 + 1 + 0 + 1 + 2 + 5, a total distance of 11!\n",
    "\n",
    "Your actual left and right lists contain many location IDs. What is the total distance between your lists?"
   ]
  },
  {
   "cell_type": "code",
   "execution_count": 9,
   "metadata": {},
   "outputs": [],
   "source": [
    "import pandas as pd\n"
   ]
  },
  {
   "cell_type": "code",
   "execution_count": 37,
   "metadata": {},
   "outputs": [
    {
     "name": "stdout",
     "output_type": "stream",
     "text": [
      "The sum distance is 2113135\n",
      "The sum similarity is 19097157\n"
     ]
    },
    {
     "name": "stderr",
     "output_type": "stream",
     "text": [
      "/var/folders/d8/4fvq61j97t1bcg7r5c388vl40000gn/T/ipykernel_78802/1355429345.py:1: ParserWarning: Falling back to the 'python' engine because the 'c' engine does not support regex separators (separators > 1 char and different from '\\s+' are interpreted as regex); you can avoid this warning by specifying engine='python'.\n",
      "  input_lists = pd.read_csv('day1_input.txt', delimiter='  ', header=None)\n"
     ]
    }
   ],
   "source": [
    "input_lists = pd.read_csv('day1_input.txt', delimiter='  ', header=None)\n",
    "input_lists.columns = [1,2]\n",
    "input_lists\n",
    "first_list_sorted = sorted(input_lists[1].tolist())\n",
    "second_list_sorted = sorted(input_lists[2].tolist())\n",
    "sorted_df = pd.DataFrame({\n",
    "    '1_sorted':first_list_sorted,\n",
    "    '2_sorted':second_list_sorted,\n",
    "})\n",
    "sorted_df['distance'] = sorted_df.apply(lambda row:abs(row['1_sorted'] - row['2_sorted']), axis=1)\n",
    "sorted_df['count'] = sorted_df.apply(lambda row:second_list_sorted.count(row['1_sorted']), axis=1)\n",
    "sorted_df['similarity'] = sorted_df.apply(lambda row:row['1_sorted']*row['count'], axis=1)\n",
    "total_distance = sorted_df['distance'].sum()\n",
    "print(f'The sum distance is {total_distance}')\n",
    "total_similarity = sorted_df['similarity'].sum()\n",
    "print(f'The sum similarity is {total_similarity}')\n"
   ]
  }
 ],
 "metadata": {
  "kernelspec": {
   "display_name": "aoc24",
   "language": "python",
   "name": "python3"
  },
  "language_info": {
   "codemirror_mode": {
    "name": "ipython",
    "version": 3
   },
   "file_extension": ".py",
   "mimetype": "text/x-python",
   "name": "python",
   "nbconvert_exporter": "python",
   "pygments_lexer": "ipython3",
   "version": "3.12.3"
  }
 },
 "nbformat": 4,
 "nbformat_minor": 2
}

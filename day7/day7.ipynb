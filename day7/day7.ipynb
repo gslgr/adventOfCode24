{
 "cells": [
  {
   "cell_type": "code",
   "execution_count": 6,
   "metadata": {},
   "outputs": [],
   "source": [
    "with open('day7_input.txt') as file:\n",
    "    lines = [line.strip() for line in file.readlines()]\n",
    "\n",
    "# lines =[\n",
    "#     '190: 10 19',\n",
    "#     '3267: 81 40 27',\n",
    "#     '83: 17 5',\n",
    "#     '156: 15 6',\n",
    "#     '7290: 6 8 6 15',\n",
    "#     '161011: 16 10 13',\n",
    "#     '192: 17 8 14',\n",
    "#     '21037: 9 7 18 13',\n",
    "#     '292: 11 6 16 20',\n",
    "# ] "
   ]
  },
  {
   "cell_type": "code",
   "execution_count": 11,
   "metadata": {},
   "outputs": [],
   "source": [
    "import itertools\n",
    "import numpy as np\n",
    "from tqdm.notebook import tqdm \n",
    "\n",
    "def ingestLines(lines):\n",
    "    lines_dicts = []\n",
    "    for line in lines: \n",
    "        splitLine = line.split(' ')\n",
    "        lines_dicts.append(\n",
    "            {'result': int(splitLine[0][:-1]), 'numbers': [int(value) for value in splitLine[1:]]}\n",
    "            )\n",
    "    return lines_dicts\n",
    "\n",
    "def getAllOptions(n, options = ['+', '*', '||']):\n",
    "    return [list(p) for p in itertools.product(options, repeat=n)]\n",
    "\n",
    "def calculateAllOptions(numbers):\n",
    "    n = len(numbers)-1\n",
    "    possibleOperators = getAllOptions(n)\n",
    "    \n",
    "    first, rest = numbers[0], numbers[1:]\n",
    "    results = np.full(len(possibleOperators), first)\n",
    "    \n",
    "    for option in zip(*[rest]+possibleOperators):\n",
    "        number = option[0]\n",
    "        operators = option[1:]\n",
    "        for i, operator in enumerate(operators):\n",
    "            if operator == '+':\n",
    "                results[i] += number\n",
    "            elif operator == '*':\n",
    "                results[i] *= number\n",
    "            elif operator == '||':\n",
    "                results[i] = int(str(results[i]) + str(number))\n",
    "            else:\n",
    "                continue\n",
    "    \n",
    "    return results\n",
    "\n",
    "def checkResult(numbers, result):\n",
    "    return result in calculateAllOptions(numbers)\n",
    "\n",
    "def validResults(numDicts):\n",
    "    validResults = []\n",
    "    for dict in tqdm(numDicts):\n",
    "        if checkResult(dict['numbers'], dict['result']):\n",
    "            validResults.append(dict['result'])\n",
    "    return validResults\n",
    "            "
   ]
  },
  {
   "cell_type": "code",
   "execution_count": 12,
   "metadata": {},
   "outputs": [
    {
     "data": {
      "application/vnd.jupyter.widget-view+json": {
       "model_id": "b858c6d43a9c4fca9da1dbc566979c4e",
       "version_major": 2,
       "version_minor": 0
      },
      "text/plain": [
       "  0%|          | 0/850 [00:00<?, ?it/s]"
      ]
     },
     "metadata": {},
     "output_type": "display_data"
    },
    {
     "data": {
      "text/plain": [
       "44841372855953"
      ]
     },
     "execution_count": 12,
     "metadata": {},
     "output_type": "execute_result"
    }
   ],
   "source": [
    "sum(validResults(ingestLines(lines)))"
   ]
  },
  {
   "cell_type": "code",
   "execution_count": null,
   "metadata": {},
   "outputs": [],
   "source": []
  }
 ],
 "metadata": {
  "kernelspec": {
   "display_name": "aoc24",
   "language": "python",
   "name": "python3"
  },
  "language_info": {
   "codemirror_mode": {
    "name": "ipython",
    "version": 3
   },
   "file_extension": ".py",
   "mimetype": "text/x-python",
   "name": "python",
   "nbconvert_exporter": "python",
   "pygments_lexer": "ipython3",
   "version": "3.12.3"
  }
 },
 "nbformat": 4,
 "nbformat_minor": 2
}

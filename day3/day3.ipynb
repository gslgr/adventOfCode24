{
 "cells": [
  {
   "cell_type": "code",
   "execution_count": null,
   "metadata": {},
   "outputs": [
    {
     "name": "stdout",
     "output_type": "stream",
     "text": [
      "sum of 658 multiplications is: 165225049\n"
     ]
    }
   ],
   "source": [
    "import re\n",
    "with open('day3_input.txt') as file:\n",
    "    lines = file.readlines()\n",
    "    input = \"\".join([line.strip() for line in lines])\n",
    "\n",
    "pattern = r'mul\\(\\d{1,3},\\d{1,3}\\)'\n",
    "muls = re.findall(pattern, input)\n",
    "\n",
    "pattern = r'\\d{1,3}'\n",
    "numbers = re.findall(pattern, input)\n",
    "mul_results = []\n",
    "for mul in muls:\n",
    "    numbers = re.findall(pattern, mul)\n",
    "    mul_results.append(int(numbers[0])*int(numbers[1]))\n",
    "\n",
    "sum_multiplications = sum(mul_results)\n",
    "\n",
    "print(f'sum of {len(muls)} multiplications is: {sum_multiplications}')\n",
    "\n",
    "\n",
    "    \n",
    "\n",
    "    "
   ]
  },
  {
   "cell_type": "code",
   "execution_count": 15,
   "metadata": {},
   "outputs": [
    {
     "name": "stdout",
     "output_type": "stream",
     "text": [
      "sum of 427 active multiplications is: 108830766\n"
     ]
    }
   ],
   "source": [
    "import re\n",
    "with open('day3_input.txt') as file:\n",
    "    lines = file.readlines()\n",
    "    input = \"\".join([line.strip() for line in lines])\n",
    "# first replace spaces between don't() and do() with \"\" \n",
    "pattern=r\"don't\\(\\).*?do\\(\\)\"\n",
    "onlyDoInput = re.sub(pattern, \"\", input)\n",
    "\n",
    "# now find the relevant ones\n",
    "pattern = r'mul\\(\\d{1,3},\\d{1,3}\\)'\n",
    "muls = re.findall(pattern, onlyDoInput)\n",
    "\n",
    "pattern = r'\\d{1,3}'\n",
    "mul_results = []\n",
    "for mul in muls:\n",
    "    numbers = re.findall(pattern, mul)\n",
    "    mul_results.append(int(numbers[0])*int(numbers[1]))\n",
    "\n",
    "sum_multiplications = sum(mul_results)\n",
    "\n",
    "print(f'sum of {len(muls)} active multiplications is: {sum_multiplications}')\n",
    "\n"
   ]
  },
  {
   "cell_type": "code",
   "execution_count": null,
   "metadata": {},
   "outputs": [],
   "source": [
    "re.sub"
   ]
  }
 ],
 "metadata": {
  "kernelspec": {
   "display_name": "aoc24",
   "language": "python",
   "name": "python3"
  },
  "language_info": {
   "codemirror_mode": {
    "name": "ipython",
    "version": 3
   },
   "file_extension": ".py",
   "mimetype": "text/x-python",
   "name": "python",
   "nbconvert_exporter": "python",
   "pygments_lexer": "ipython3",
   "version": "3.12.3"
  }
 },
 "nbformat": 4,
 "nbformat_minor": 2
}
